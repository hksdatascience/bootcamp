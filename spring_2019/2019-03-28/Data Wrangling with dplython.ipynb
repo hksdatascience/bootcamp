{
 "cells": [
  {
   "cell_type": "markdown",
   "metadata": {},
   "source": [
    "# Data Wrangling\n",
    "\n",
    "Data wrangling is the art of manipulating a data set to prepare it for further data analysis.\n",
    "\n",
    "##### Main Data Wrangling Operations\n",
    "\n",
    "* Selecting columns\n",
    "* Filtering rows\n",
    "* Creating new columns\n",
    "* Aggregating data\n",
    "* Grouping data for aggregation\n",
    "* Reordering/sorting data\n",
    "* Randomly sampling rows"
   ]
  },
  {
   "cell_type": "markdown",
   "metadata": {},
   "source": [
    "### Understanding the  `dplython` package"
   ]
  },
  {
   "cell_type": "markdown",
   "metadata": {},
   "source": [
    "*The `dplython` package allows you to work in Python using a set of \"verbs\" that are taken from the `dplyr` R package. The functions in this package will hopefully make your data wrangling much easier and more intuitive.*"
   ]
  },
  {
   "cell_type": "markdown",
   "metadata": {},
   "source": [
    "`DplyFrame`: A version of the `pandas` data frame that works with the `dplython` functions.\n",
    "\n",
    "`X`: Will allow you to select columns without needing to use quotation marks.\n",
    "\n",
    "`head`: Returns the specified number of rows.\n",
    "\n",
    "`select`: Selects columns based on column name (or number).\n",
    "\n",
    "`sift`: Filters rows based on criteria.\n",
    "\n",
    "`arrange`: Sorts data by the specified column or columns.\n",
    "\n",
    "`mutate`: Allows you to create new columns or modify existing columns.\n",
    "\n",
    "`group_by`: Specifies how data should be grouped (useful for later aggregation).\n",
    "\n",
    "`summarize`: Aggregates data based on a specified aggregation function. If grouping variables have been specified (using `group_by`), the aggregation will occur within each grouping variable. If not, aggregation will occur across the whole data frame.\n",
    "\n",
    "`sample_n`: Randomly samples the data frame to return the specified number of rows.\n",
    "\n",
    "`sample_frac`: Randomly samples the data frame to return the specified percentage of rows (a number between 0 and 1).\n",
    "\n",
    "**For more information, visit the [`dplython` README](https://github.com/dodger487/dplython)**"
   ]
  },
  {
   "cell_type": "markdown",
   "metadata": {},
   "source": [
    "### Setup"
   ]
  },
  {
   "cell_type": "markdown",
   "metadata": {},
   "source": [
    "Working with the `dplython` package is very similar to working with `pandas`, with a few additional functions that you will need to load. In order to do this, however, you need to install the `dplython` package."
   ]
  },
  {
   "cell_type": "markdown",
   "metadata": {},
   "source": [
    "If you have not installed the `dplython` package, remove the comment (#) and run the command below."
   ]
  },
  {
   "cell_type": "code",
   "execution_count": null,
   "metadata": {},
   "outputs": [],
   "source": [
    "# !pip install dplython"
   ]
  },
  {
   "cell_type": "markdown",
   "metadata": {},
   "source": [
    "Now we need to import `pandas` and a set of functions from the `dplython` package."
   ]
  },
  {
   "cell_type": "code",
   "execution_count": null,
   "metadata": {},
   "outputs": [],
   "source": [
    "import pandas as pd\n",
    "from dplython import (DplyFrame, X, select, sift, sample_n,\n",
    "    sample_frac, head, arrange, mutate, group_by, summarize) "
   ]
  },
  {
   "cell_type": "markdown",
   "metadata": {},
   "source": [
    "Once you have installed the `dplython` package, we will load the Titanic data set that we have been working with over the past several weeks. Note that there is an additional step: casting the data frame as a `DplyFrame`."
   ]
  },
  {
   "cell_type": "code",
   "execution_count": null,
   "metadata": {},
   "outputs": [],
   "source": [
    "# Read in the data frame as usual using pandas\n",
    "df = pd.read_csv('train.csv')\n",
    "\n",
    "# Then, cast the data frame to become a DplyFrame using the DplyFrame() function\n",
    "df = DplyFrame(df)"
   ]
  },
  {
   "cell_type": "markdown",
   "metadata": {},
   "source": [
    "### Using the Pipe Operator"
   ]
  },
  {
   "cell_type": "markdown",
   "metadata": {},
   "source": [
    "One of the most powerful things about the `dplython` package is the `>>` (\"pipe\") operator. This allows you to chain together multiple steps in an easy-to-read way. When reading code, it is helpful to read `>>` as \"then\" in plain English."
   ]
  },
  {
   "cell_type": "code",
   "execution_count": null,
   "metadata": {},
   "outputs": [],
   "source": [
    "# Start with your data frame, THEN show the first 10 rows\n",
    "df >> head(10)"
   ]
  },
  {
   "cell_type": "code",
   "execution_count": null,
   "metadata": {},
   "outputs": [],
   "source": [
    "# Now write a line of code that displays the first 7 lines of the data frame\n",
    "\n",
    "\n"
   ]
  },
  {
   "cell_type": "markdown",
   "metadata": {},
   "source": [
    "### Selecting Columns"
   ]
  },
  {
   "cell_type": "markdown",
   "metadata": {},
   "source": [
    "In order to select a column without needing to use quotation marks, use `X`."
   ]
  },
  {
   "cell_type": "code",
   "execution_count": null,
   "metadata": {},
   "outputs": [],
   "source": [
    "# Create a new data frame by starting with the original data frame,\n",
    "# THEN selecting the PassengerId, Sex, Age, Fare, and Survived columns\n",
    "new_df = (df >> select(X.PassengerId, X.Sex, X.Age, X.Fare, X.Survived))"
   ]
  },
  {
   "cell_type": "code",
   "execution_count": null,
   "metadata": {},
   "outputs": [],
   "source": [
    "# Start with your new data frame, THEN show the first 10 rows\n",
    "new_df >> head(10)"
   ]
  },
  {
   "cell_type": "code",
   "execution_count": null,
   "metadata": {},
   "outputs": [],
   "source": [
    "# Without creating a new data frame, select only the PassengerId, Pclass, Sex, SibSp, and Embarked columns\n",
    "\n",
    "\n"
   ]
  },
  {
   "cell_type": "markdown",
   "metadata": {},
   "source": [
    "### Filtering data"
   ]
  },
  {
   "cell_type": "markdown",
   "metadata": {},
   "source": [
    "Use `sift` to create a smaller data frame based on criteria. Any rows meeting the criteria will be returned.\n",
    "\n",
    "As with the `select` function, the `sift` function can use `X` notation to select columns without using quotation marks."
   ]
  },
  {
   "cell_type": "code",
   "execution_count": null,
   "metadata": {},
   "outputs": [],
   "source": [
    "# Start with your new data frame, THEN filter it to only female passengers, THEN show only the first 10 rows\n",
    "(new_df >>\n",
    "    sift(X.Sex == 'female') >>\n",
    "    head(10))"
   ]
  },
  {
   "cell_type": "code",
   "execution_count": null,
   "metadata": {},
   "outputs": [],
   "source": [
    "# You can also use multiple criteria in the sift() function, with each new criterion separated by a comma\n",
    "# Start with your new data frame, THEN filter it to only female passengers, THEN show only the first 10 rows\n",
    "(new_df >>\n",
    "    sift(X.Sex == 'female', X.Age > 30) >>\n",
    "    head(10))"
   ]
  },
  {
   "cell_type": "code",
   "execution_count": null,
   "metadata": {},
   "outputs": [],
   "source": [
    "# Starting with the new data frame, show the first ten rows of male \n",
    "# passengers whose fare was less than 10 and who survived\n",
    "\n",
    "\n"
   ]
  },
  {
   "cell_type": "markdown",
   "metadata": {},
   "source": [
    "### Creating or modifying columns"
   ]
  },
  {
   "cell_type": "code",
   "execution_count": null,
   "metadata": {},
   "outputs": [],
   "source": [
    "# Start with the new data frame, THEN create a new column called FarePlusTen, THEN show only the first 10 rows\n",
    "(new_df >>\n",
    "    mutate(FarePlusTen = X.Fare + 10) >>\n",
    "    head(10))"
   ]
  },
  {
   "cell_type": "code",
   "execution_count": null,
   "metadata": {},
   "outputs": [],
   "source": [
    "# You can create multiple columns at once with each new column separated by a comma\n",
    "(new_df >>\n",
    "    mutate(FarePlusTen = X.Fare + 10, FareTimesAge = X.Fare * X.Age) >>\n",
    "    head(10))"
   ]
  },
  {
   "cell_type": "code",
   "execution_count": null,
   "metadata": {},
   "outputs": [],
   "source": [
    "# You can also modify existing columns by naming the \"new\" column the same as the old column\n",
    "# You can create multiple columns at once with each new column separated by a comma\n",
    "(new_df >>\n",
    "    mutate(Fare = X.Fare.round()) >>\n",
    "    head(10))"
   ]
  },
  {
   "cell_type": "code",
   "execution_count": null,
   "metadata": {},
   "outputs": [],
   "source": [
    "# Create two new columns of your own choosing\n",
    "\n",
    "\n"
   ]
  },
  {
   "cell_type": "markdown",
   "metadata": {},
   "source": [
    "### Grouping and aggregating"
   ]
  },
  {
   "cell_type": "markdown",
   "metadata": {},
   "source": [
    "Aggregation is a way of summarizing data by transforming more granular data into less granular data. However, sometimes you do not want to summarize the entire data frame but, rather, specific groups within the data frame. The `summarize` and `group_by` functions work together to perform these tasks."
   ]
  },
  {
   "cell_type": "code",
   "execution_count": null,
   "metadata": {},
   "outputs": [],
   "source": [
    "# Start with your new data frame, THEN summarize it by taking the mean of the Fare column\n",
    "new_df >> summarize(MeanFare = X.Fare.mean())"
   ]
  },
  {
   "cell_type": "code",
   "execution_count": null,
   "metadata": {},
   "outputs": [],
   "source": [
    "# You can also chain together multiple aggregations with each separated by a comma\n",
    "(new_df >> \n",
    "     summarize(MeanFare = X.Fare.mean().round(),\n",
    "               SumFare = X.Fare.sum(),\n",
    "               MedianFare = X.Fare.median(),\n",
    "               Count = X.Fare.count()))"
   ]
  },
  {
   "cell_type": "markdown",
   "metadata": {},
   "source": [
    "To split the aggregations by a certain variable, use the `group_by` function"
   ]
  },
  {
   "cell_type": "code",
   "execution_count": null,
   "metadata": {},
   "outputs": [],
   "source": [
    "# Start with the new data frame, THEN group it by Sex, THEN create aggregations of the Fare column\n",
    "(new_df >> \n",
    "     group_by(X.Sex) >>\n",
    "     summarize(MeanFare = X.Fare.mean().round(),\n",
    "               SumFare = X.Fare.sum(),\n",
    "               MedianFare = X.Fare.median(),\n",
    "               Count = X.Fare.count()))"
   ]
  },
  {
   "cell_type": "code",
   "execution_count": null,
   "metadata": {},
   "outputs": [],
   "source": [
    "# Show the average fare for both male/female and died/survived groups (four groups total)\n",
    "\n",
    "\n"
   ]
  },
  {
   "cell_type": "markdown",
   "metadata": {},
   "source": [
    "### Sorting by columns"
   ]
  },
  {
   "cell_type": "markdown",
   "metadata": {},
   "source": [
    "Use the `arrange` function to sort a data frame by one (or more) columns."
   ]
  },
  {
   "cell_type": "code",
   "execution_count": null,
   "metadata": {},
   "outputs": [],
   "source": [
    "# Start with the new data frame, THEN sort it by Age\n",
    "new_df >> arrange(X.Age)"
   ]
  },
  {
   "cell_type": "code",
   "execution_count": null,
   "metadata": {},
   "outputs": [],
   "source": [
    "# Sort by multiple columns (sort by the first column, then break ties by sorting by the second columnn)\n",
    "new_df >> arrange(X.Sex, X.Age)"
   ]
  },
  {
   "cell_type": "code",
   "execution_count": null,
   "metadata": {},
   "outputs": [],
   "source": [
    "# Sort by reverse of numeric columns using negative sign\n",
    "new_df >> arrange(-X.Age)"
   ]
  },
  {
   "cell_type": "code",
   "execution_count": null,
   "metadata": {},
   "outputs": [],
   "source": [
    "# Try to sort the new data frame using some different criteria\n",
    "\n",
    "\n"
   ]
  },
  {
   "cell_type": "markdown",
   "metadata": {},
   "source": [
    "### Randomly sampling rows"
   ]
  },
  {
   "cell_type": "markdown",
   "metadata": {},
   "source": [
    "Sometimes, it helps to take a random sample of your data. You can do this with either the `sample_n` function (which lets you specify a number of rows to return) or `sample_frac` (which lets you specify the percentage of rows to return)."
   ]
  },
  {
   "cell_type": "code",
   "execution_count": null,
   "metadata": {},
   "outputs": [],
   "source": [
    "# Start with the new data frame, THEN randomly return five rows\n",
    "new_df >> sample_n(5)"
   ]
  },
  {
   "cell_type": "code",
   "execution_count": null,
   "metadata": {},
   "outputs": [],
   "source": [
    "# Start with the new data frame, THEN randomly return 2% of all records\n",
    "new_df >> sample_frac(0.02)"
   ]
  },
  {
   "cell_type": "code",
   "execution_count": null,
   "metadata": {},
   "outputs": [],
   "source": [
    "# Randomly return 25 rows from the new data frame\n",
    "\n",
    "\n"
   ]
  },
  {
   "cell_type": "code",
   "execution_count": null,
   "metadata": {},
   "outputs": [],
   "source": [
    "# Now randomly return 1.5% of the rows from the new data frame\n",
    "\n",
    "\n"
   ]
  }
 ],
 "metadata": {
  "kernelspec": {
   "display_name": "Python 3",
   "language": "python",
   "name": "python3"
  },
  "language_info": {
   "codemirror_mode": {
    "name": "ipython",
    "version": 3
   },
   "file_extension": ".py",
   "mimetype": "text/x-python",
   "name": "python",
   "nbconvert_exporter": "python",
   "pygments_lexer": "ipython3",
   "version": "3.7.1"
  }
 },
 "nbformat": 4,
 "nbformat_minor": 2
}
