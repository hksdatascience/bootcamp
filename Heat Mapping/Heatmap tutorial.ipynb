{
 "cells": [
  {
   "cell_type": "markdown",
   "metadata": {},
   "source": [
    "# First let's install the Folium package\n",
    "\n",
    "Lets google \"Install folium package python\""
   ]
  },
  {
   "cell_type": "markdown",
   "metadata": {},
   "source": [
    "https://python-visualization.github.io/folium/installing.html"
   ]
  },
  {
   "cell_type": "code",
   "execution_count": 3,
   "metadata": {},
   "outputs": [],
   "source": [
    "#!pip install folium #run this line if using Folium for the first time"
   ]
  },
  {
   "cell_type": "code",
   "execution_count": 80,
   "metadata": {},
   "outputs": [],
   "source": [
    "# Now that we have folium install, let's import our packages into the environment\n",
    "import pandas as pd\n",
    "import folium\n",
    "from folium.plugins import HeatMap"
   ]
  },
  {
   "cell_type": "markdown",
   "metadata": {},
   "source": [
    "# Now let's find out a fun variable to map\n",
    "\n",
    "The requirements is that we need a table that is granular at the observation level and that has both (lat, lon).\n",
    "\n",
    "We could begin by searching in:\n",
    "* https://data.boston.gov/\n",
    "* https://data.somervillema.gov/\n"
   ]
  },
  {
   "cell_type": "code",
   "execution_count": 82,
   "metadata": {},
   "outputs": [
    {
     "data": {
      "text/html": [
       "<div>\n",
       "<style scoped>\n",
       "    .dataframe tbody tr th:only-of-type {\n",
       "        vertical-align: middle;\n",
       "    }\n",
       "\n",
       "    .dataframe tbody tr th {\n",
       "        vertical-align: top;\n",
       "    }\n",
       "\n",
       "    .dataframe thead th {\n",
       "        text-align: right;\n",
       "    }\n",
       "</style>\n",
       "<table border=\"1\" class=\"dataframe\">\n",
       "  <thead>\n",
       "    <tr style=\"text-align: right;\">\n",
       "      <th></th>\n",
       "      <th>dtreported</th>\n",
       "      <th>incnum</th>\n",
       "      <th>loctype</th>\n",
       "      <th>offense</th>\n",
       "      <th>offensecode</th>\n",
       "      <th>ra</th>\n",
       "      <th>stname1</th>\n",
       "      <th>stname2</th>\n",
       "      <th>stnum</th>\n",
       "      <th>x</th>\n",
       "      <th>y</th>\n",
       "    </tr>\n",
       "  </thead>\n",
       "  <tbody>\n",
       "    <tr>\n",
       "      <th>0</th>\n",
       "      <td>2019-02-04T20:15:34.000</td>\n",
       "      <td>19006378</td>\n",
       "      <td>S</td>\n",
       "      <td>MOTOR VEHICLE THEFT</td>\n",
       "      <td>240</td>\n",
       "      <td>78</td>\n",
       "      <td>BELMONT ST</td>\n",
       "      <td>NaN</td>\n",
       "      <td>XX</td>\n",
       "      <td>-71.109302</td>\n",
       "      <td>42.386980</td>\n",
       "    </tr>\n",
       "    <tr>\n",
       "      <th>1</th>\n",
       "      <td>2019-02-03T23:35:41.000</td>\n",
       "      <td>19006227</td>\n",
       "      <td>B</td>\n",
       "      <td>BURGLARY/BREAKING AND ENTERING</td>\n",
       "      <td>220</td>\n",
       "      <td>44</td>\n",
       "      <td>HIGHLAND AV</td>\n",
       "      <td>NaN</td>\n",
       "      <td>1XX</td>\n",
       "      <td>-71.102632</td>\n",
       "      <td>42.388218</td>\n",
       "    </tr>\n",
       "    <tr>\n",
       "      <th>2</th>\n",
       "      <td>2019-02-03T20:09:04.000</td>\n",
       "      <td>19006212</td>\n",
       "      <td>S</td>\n",
       "      <td>BURGLARY/BREAKING AND ENTERING</td>\n",
       "      <td>220</td>\n",
       "      <td>101</td>\n",
       "      <td>COLLEGE AV</td>\n",
       "      <td>NaN</td>\n",
       "      <td>1XX</td>\n",
       "      <td>-71.116879</td>\n",
       "      <td>42.402391</td>\n",
       "    </tr>\n",
       "    <tr>\n",
       "      <th>3</th>\n",
       "      <td>2019-02-03T14:21:58.000</td>\n",
       "      <td>19006183</td>\n",
       "      <td>S</td>\n",
       "      <td>THEFT FROM MOTOR VEHICLE</td>\n",
       "      <td>23F</td>\n",
       "      <td>15</td>\n",
       "      <td>PEARL ST</td>\n",
       "      <td>NaN</td>\n",
       "      <td>XX</td>\n",
       "      <td>-71.079774</td>\n",
       "      <td>42.383394</td>\n",
       "    </tr>\n",
       "    <tr>\n",
       "      <th>4</th>\n",
       "      <td>2019-02-01T12:02:02.000</td>\n",
       "      <td>19005829</td>\n",
       "      <td>S</td>\n",
       "      <td>BURGLARY/BREAKING AND ENTERING</td>\n",
       "      <td>220</td>\n",
       "      <td>73</td>\n",
       "      <td>TOWER ST</td>\n",
       "      <td>NaN</td>\n",
       "      <td>XX</td>\n",
       "      <td>-71.108866</td>\n",
       "      <td>42.390181</td>\n",
       "    </tr>\n",
       "    <tr>\n",
       "      <th>5</th>\n",
       "      <td>2019-01-31T11:05:37.000</td>\n",
       "      <td>19005635</td>\n",
       "      <td>S</td>\n",
       "      <td>BURGLARY/BREAKING AND ENTERING</td>\n",
       "      <td>220</td>\n",
       "      <td>127</td>\n",
       "      <td>DOW ST</td>\n",
       "      <td>NaN</td>\n",
       "      <td>XX</td>\n",
       "      <td>-71.127830</td>\n",
       "      <td>42.406260</td>\n",
       "    </tr>\n",
       "    <tr>\n",
       "      <th>6</th>\n",
       "      <td>2019-01-31T10:00:29.000</td>\n",
       "      <td>19005620</td>\n",
       "      <td>B</td>\n",
       "      <td>THEFT FROM MOTOR VEHICLE</td>\n",
       "      <td>23F</td>\n",
       "      <td>45</td>\n",
       "      <td>HIGHLAND AV</td>\n",
       "      <td>NaN</td>\n",
       "      <td>XX</td>\n",
       "      <td>-71.097804</td>\n",
       "      <td>42.386586</td>\n",
       "    </tr>\n",
       "    <tr>\n",
       "      <th>7</th>\n",
       "      <td>2019-01-31T09:13:43.000</td>\n",
       "      <td>19005611</td>\n",
       "      <td>S</td>\n",
       "      <td>BURGLARY/BREAKING AND ENTERING</td>\n",
       "      <td>220</td>\n",
       "      <td>102</td>\n",
       "      <td>WARNER ST</td>\n",
       "      <td>NaN</td>\n",
       "      <td>XX</td>\n",
       "      <td>-71.114926</td>\n",
       "      <td>42.402092</td>\n",
       "    </tr>\n",
       "    <tr>\n",
       "      <th>8</th>\n",
       "      <td>2019-01-30T21:54:51.000</td>\n",
       "      <td>19005532</td>\n",
       "      <td>S</td>\n",
       "      <td>BURGLARY/BREAKING AND ENTERING</td>\n",
       "      <td>220</td>\n",
       "      <td>131</td>\n",
       "      <td>ALEWIFE BROOK PKWY</td>\n",
       "      <td>NaN</td>\n",
       "      <td>3XX</td>\n",
       "      <td>-71.130737</td>\n",
       "      <td>42.410489</td>\n",
       "    </tr>\n",
       "    <tr>\n",
       "      <th>9</th>\n",
       "      <td>2019-01-30T09:09:33.000</td>\n",
       "      <td>19005425</td>\n",
       "      <td>S</td>\n",
       "      <td>BURGLARY/BREAKING AND ENTERING</td>\n",
       "      <td>220</td>\n",
       "      <td>44</td>\n",
       "      <td>HIGHLAND AV</td>\n",
       "      <td>NaN</td>\n",
       "      <td>1XX</td>\n",
       "      <td>-71.102632</td>\n",
       "      <td>42.388218</td>\n",
       "    </tr>\n",
       "  </tbody>\n",
       "</table>\n",
       "</div>"
      ],
      "text/plain": [
       "                dtreported    incnum loctype                         offense  \\\n",
       "0  2019-02-04T20:15:34.000  19006378       S             MOTOR VEHICLE THEFT   \n",
       "1  2019-02-03T23:35:41.000  19006227       B  BURGLARY/BREAKING AND ENTERING   \n",
       "2  2019-02-03T20:09:04.000  19006212       S  BURGLARY/BREAKING AND ENTERING   \n",
       "3  2019-02-03T14:21:58.000  19006183       S        THEFT FROM MOTOR VEHICLE   \n",
       "4  2019-02-01T12:02:02.000  19005829       S  BURGLARY/BREAKING AND ENTERING   \n",
       "5  2019-01-31T11:05:37.000  19005635       S  BURGLARY/BREAKING AND ENTERING   \n",
       "6  2019-01-31T10:00:29.000  19005620       B        THEFT FROM MOTOR VEHICLE   \n",
       "7  2019-01-31T09:13:43.000  19005611       S  BURGLARY/BREAKING AND ENTERING   \n",
       "8  2019-01-30T21:54:51.000  19005532       S  BURGLARY/BREAKING AND ENTERING   \n",
       "9  2019-01-30T09:09:33.000  19005425       S  BURGLARY/BREAKING AND ENTERING   \n",
       "\n",
       "  offensecode   ra             stname1 stname2 stnum          x          y  \n",
       "0         240   78          BELMONT ST     NaN    XX -71.109302  42.386980  \n",
       "1         220   44         HIGHLAND AV     NaN   1XX -71.102632  42.388218  \n",
       "2         220  101          COLLEGE AV     NaN   1XX -71.116879  42.402391  \n",
       "3         23F   15            PEARL ST     NaN    XX -71.079774  42.383394  \n",
       "4         220   73            TOWER ST     NaN    XX -71.108866  42.390181  \n",
       "5         220  127              DOW ST     NaN    XX -71.127830  42.406260  \n",
       "6         23F   45         HIGHLAND AV     NaN    XX -71.097804  42.386586  \n",
       "7         220  102           WARNER ST     NaN    XX -71.114926  42.402092  \n",
       "8         220  131  ALEWIFE BROOK PKWY     NaN   3XX -71.130737  42.410489  \n",
       "9         220   44         HIGHLAND AV     NaN   1XX -71.102632  42.388218  "
      ]
     },
     "execution_count": 82,
     "metadata": {},
     "output_type": "execute_result"
    }
   ],
   "source": [
    "# Let's load the data from the Json\n",
    "json_address = 'https://data.somervillema.gov/resource/4jey-jqxb.json'\n",
    "df = pd.read_json(json_address)\n",
    "df.head(10)"
   ]
  },
  {
   "cell_type": "code",
   "execution_count": 83,
   "metadata": {},
   "outputs": [
    {
     "data": {
      "text/plain": [
       "BURGLARY/BREAKING AND ENTERING    355\n",
       "THEFT FROM MOTOR VEHICLE          347\n",
       "MOTOR VEHICLE THEFT               209\n",
       "ROBBERY                            89\n",
       "Name: offense, dtype: int64"
      ]
     },
     "execution_count": 83,
     "metadata": {},
     "output_type": "execute_result"
    }
   ],
   "source": [
    "df.offense.value_counts()"
   ]
  },
  {
   "cell_type": "code",
   "execution_count": 84,
   "metadata": {},
   "outputs": [
    {
     "data": {
      "text/html": [
       "<div>\n",
       "<style scoped>\n",
       "    .dataframe tbody tr th:only-of-type {\n",
       "        vertical-align: middle;\n",
       "    }\n",
       "\n",
       "    .dataframe tbody tr th {\n",
       "        vertical-align: top;\n",
       "    }\n",
       "\n",
       "    .dataframe thead th {\n",
       "        text-align: right;\n",
       "    }\n",
       "</style>\n",
       "<table border=\"1\" class=\"dataframe\">\n",
       "  <thead>\n",
       "    <tr style=\"text-align: right;\">\n",
       "      <th></th>\n",
       "      <th>incnum</th>\n",
       "      <th>x</th>\n",
       "      <th>y</th>\n",
       "    </tr>\n",
       "  </thead>\n",
       "  <tbody>\n",
       "    <tr>\n",
       "      <th>count</th>\n",
       "      <td>8.900000e+01</td>\n",
       "      <td>83.000000</td>\n",
       "      <td>83.000000</td>\n",
       "    </tr>\n",
       "    <tr>\n",
       "      <th>mean</th>\n",
       "      <td>1.761984e+07</td>\n",
       "      <td>-71.202869</td>\n",
       "      <td>42.365665</td>\n",
       "    </tr>\n",
       "    <tr>\n",
       "      <th>std</th>\n",
       "      <td>5.577782e+05</td>\n",
       "      <td>0.959550</td>\n",
       "      <td>0.217536</td>\n",
       "    </tr>\n",
       "    <tr>\n",
       "      <th>min</th>\n",
       "      <td>1.700342e+07</td>\n",
       "      <td>-79.838251</td>\n",
       "      <td>40.409070</td>\n",
       "    </tr>\n",
       "    <tr>\n",
       "      <th>25%</th>\n",
       "      <td>1.703494e+07</td>\n",
       "      <td>-71.112467</td>\n",
       "      <td>42.385108</td>\n",
       "    </tr>\n",
       "    <tr>\n",
       "      <th>50%</th>\n",
       "      <td>1.800696e+07</td>\n",
       "      <td>-71.092743</td>\n",
       "      <td>42.387930</td>\n",
       "    </tr>\n",
       "    <tr>\n",
       "      <th>75%</th>\n",
       "      <td>1.804325e+07</td>\n",
       "      <td>-71.084399</td>\n",
       "      <td>42.395406</td>\n",
       "    </tr>\n",
       "    <tr>\n",
       "      <th>max</th>\n",
       "      <td>1.900443e+07</td>\n",
       "      <td>-71.077813</td>\n",
       "      <td>42.409636</td>\n",
       "    </tr>\n",
       "  </tbody>\n",
       "</table>\n",
       "</div>"
      ],
      "text/plain": [
       "             incnum          x          y\n",
       "count  8.900000e+01  83.000000  83.000000\n",
       "mean   1.761984e+07 -71.202869  42.365665\n",
       "std    5.577782e+05   0.959550   0.217536\n",
       "min    1.700342e+07 -79.838251  40.409070\n",
       "25%    1.703494e+07 -71.112467  42.385108\n",
       "50%    1.800696e+07 -71.092743  42.387930\n",
       "75%    1.804325e+07 -71.084399  42.395406\n",
       "max    1.900443e+07 -71.077813  42.409636"
      ]
     },
     "execution_count": 84,
     "metadata": {},
     "output_type": "execute_result"
    }
   ],
   "source": [
    "# We want to \n",
    "df_rob = df[df.offense=='ROBBERY']\n",
    "df_rob.describe()"
   ]
  },
  {
   "cell_type": "code",
   "execution_count": 85,
   "metadata": {},
   "outputs": [],
   "source": [
    "# First create a list to give to Folium\n",
    "heat_df = df_rob[['x', 'y']]\n",
    "heat_df = heat_df.dropna(axis=0, subset=['x','y'])\n",
    "heat_data = [[row['y'],row['x']] for index, row in heat_df.iterrows()]"
   ]
  },
  {
   "cell_type": "code",
   "execution_count": 95,
   "metadata": {},
   "outputs": [
    {
     "data": {
      "text/html": [
       "<div style=\"width:100%;\"><div style=\"position:relative;width:100%;height:0;padding-bottom:60%;\"><iframe src=\"data:text/html;charset=utf-8;base64,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\" style=\"position:absolute;width:100%;height:100%;left:0;top:0;border:none !important;\" allowfullscreen webkitallowfullscreen mozallowfullscreen></iframe></div></div>"
      ],
      "text/plain": [
       "<folium.folium.Map at 0x120327e10>"
      ]
     },
     "execution_count": 95,
     "metadata": {},
     "output_type": "execute_result"
    }
   ],
   "source": [
    "# We now create a map object and populate it with points\n",
    "robbery_map = folium.Map(location=[42.3876, -71.0995], zoom_start=13.25, tiles='Stamen Toner')\n",
    "HeatMap(heat_data, radius=15).add_to(robbery_map)\n",
    "robbery_map"
   ]
  },
  {
   "cell_type": "markdown",
   "metadata": {},
   "source": [
    "# Lets play around with some of the arguments we can pass to the map\n",
    "* tiles \n",
    "* zoom_start\n",
    "* radius"
   ]
  },
  {
   "cell_type": "code",
   "execution_count": 37,
   "metadata": {},
   "outputs": [],
   "source": [
    "# Now let's do a very disgusting dataset that requires some cleaning"
   ]
  },
  {
   "cell_type": "code",
   "execution_count": 91,
   "metadata": {},
   "outputs": [
    {
     "data": {
      "text/html": [
       "<div>\n",
       "<style scoped>\n",
       "    .dataframe tbody tr th:only-of-type {\n",
       "        vertical-align: middle;\n",
       "    }\n",
       "\n",
       "    .dataframe tbody tr th {\n",
       "        vertical-align: top;\n",
       "    }\n",
       "\n",
       "    .dataframe thead th {\n",
       "        text-align: right;\n",
       "    }\n",
       "</style>\n",
       "<table border=\"1\" class=\"dataframe\">\n",
       "  <thead>\n",
       "    <tr style=\"text-align: right;\">\n",
       "      <th></th>\n",
       "      <th>:@computed_region_8cbr_52pd</th>\n",
       "      <th>issue_description</th>\n",
       "      <th>issue_type</th>\n",
       "      <th>location</th>\n",
       "      <th>neighborhood_district</th>\n",
       "      <th>secondary_issue_type</th>\n",
       "      <th>street_address</th>\n",
       "      <th>submitter</th>\n",
       "      <th>ticket_closed_date_time</th>\n",
       "      <th>ticket_created_date_time</th>\n",
       "      <th>ticket_id</th>\n",
       "      <th>ticket_last_updated_date_time</th>\n",
       "      <th>ticket_status</th>\n",
       "    </tr>\n",
       "  </thead>\n",
       "  <tbody>\n",
       "    <tr>\n",
       "      <th>0</th>\n",
       "      <td>16551.0</td>\n",
       "      <td>Sewer</td>\n",
       "      <td>Manhole repair</td>\n",
       "      <td>{'latitude': '42.379819', 'longitude': '-71.10...</td>\n",
       "      <td>Ward 2</td>\n",
       "      <td>Service Requests</td>\n",
       "      <td>165 Beacon St</td>\n",
       "      <td>43095</td>\n",
       "      <td>2015-07-02 14:51:00</td>\n",
       "      <td>2015-07-02 12:18:00</td>\n",
       "      <td>400579</td>\n",
       "      <td>2015-07-02 14:51:00</td>\n",
       "      <td>Closed</td>\n",
       "    </tr>\n",
       "    <tr>\n",
       "      <th>1</th>\n",
       "      <td>16881.0</td>\n",
       "      <td>ISD Health</td>\n",
       "      <td>Rats</td>\n",
       "      <td>{'latitude': '42.390608', 'longitude': '-71.09...</td>\n",
       "      <td>Ward 4</td>\n",
       "      <td>Service Requests</td>\n",
       "      <td>11 Maple Ave</td>\n",
       "      <td>0</td>\n",
       "      <td>2015-07-23 00:16:00</td>\n",
       "      <td>2015-07-07 09:34:00</td>\n",
       "      <td>401523</td>\n",
       "      <td>2015-07-23 00:16:00</td>\n",
       "      <td>Closed</td>\n",
       "    </tr>\n",
       "  </tbody>\n",
       "</table>\n",
       "</div>"
      ],
      "text/plain": [
       "   :@computed_region_8cbr_52pd issue_description      issue_type  \\\n",
       "0                      16551.0             Sewer  Manhole repair   \n",
       "1                      16881.0        ISD Health            Rats   \n",
       "\n",
       "                                            location neighborhood_district  \\\n",
       "0  {'latitude': '42.379819', 'longitude': '-71.10...                Ward 2   \n",
       "1  {'latitude': '42.390608', 'longitude': '-71.09...                Ward 4   \n",
       "\n",
       "  secondary_issue_type street_address  submitter ticket_closed_date_time  \\\n",
       "0     Service Requests  165 Beacon St      43095     2015-07-02 14:51:00   \n",
       "1     Service Requests   11 Maple Ave          0     2015-07-23 00:16:00   \n",
       "\n",
       "  ticket_created_date_time  ticket_id ticket_last_updated_date_time  \\\n",
       "0      2015-07-02 12:18:00     400579           2015-07-02 14:51:00   \n",
       "1      2015-07-07 09:34:00     401523           2015-07-23 00:16:00   \n",
       "\n",
       "  ticket_status  \n",
       "0        Closed  \n",
       "1        Closed  "
      ]
     },
     "execution_count": 91,
     "metadata": {},
     "output_type": "execute_result"
    }
   ],
   "source": [
    "json_address2 = 'https://data.somervillema.gov/resource/xs7t-pxkc.json'\n",
    "df2 = pd.read_json(json_address2)\n",
    "df2.head(2)"
   ]
  },
  {
   "cell_type": "code",
   "execution_count": 9,
   "metadata": {},
   "outputs": [
    {
     "data": {
      "text/plain": [
       "Traffic and Parking          234\n",
       "Water                        195\n",
       "DPW Highway                  184\n",
       "ISD Health                   109\n",
       "DPW Buildings and Grounds     87\n",
       "DPW Sanitation                65\n",
       "Sewer                         48\n",
       "DPW Lights and Lines          30\n",
       "Parking                       17\n",
       "OSPCD Admin                   12\n",
       "Animal Control                10\n",
       "Constituent Services           9\n",
       "Name: issue_description, dtype: int64"
      ]
     },
     "execution_count": 9,
     "metadata": {},
     "output_type": "execute_result"
    }
   ],
   "source": [
    "df2.issue_description.value_counts()"
   ]
  },
  {
   "cell_type": "code",
   "execution_count": 11,
   "metadata": {},
   "outputs": [
    {
     "data": {
      "text/html": [
       "<div>\n",
       "<style scoped>\n",
       "    .dataframe tbody tr th:only-of-type {\n",
       "        vertical-align: middle;\n",
       "    }\n",
       "\n",
       "    .dataframe tbody tr th {\n",
       "        vertical-align: top;\n",
       "    }\n",
       "\n",
       "    .dataframe thead th {\n",
       "        text-align: right;\n",
       "    }\n",
       "</style>\n",
       "<table border=\"1\" class=\"dataframe\">\n",
       "  <thead>\n",
       "    <tr style=\"text-align: right;\">\n",
       "      <th></th>\n",
       "      <th>:@computed_region_8cbr_52pd</th>\n",
       "      <th>issue_description</th>\n",
       "      <th>issue_type</th>\n",
       "      <th>location</th>\n",
       "      <th>neighborhood_district</th>\n",
       "      <th>secondary_issue_type</th>\n",
       "      <th>street_address</th>\n",
       "      <th>submitter</th>\n",
       "      <th>ticket_closed_date_time</th>\n",
       "      <th>ticket_created_date_time</th>\n",
       "      <th>ticket_id</th>\n",
       "      <th>ticket_last_updated_date_time</th>\n",
       "      <th>ticket_status</th>\n",
       "    </tr>\n",
       "  </thead>\n",
       "  <tbody>\n",
       "    <tr>\n",
       "      <th>10</th>\n",
       "      <td>16552.0</td>\n",
       "      <td>Traffic and Parking</td>\n",
       "      <td>T&amp;P Miscellaneous</td>\n",
       "      <td>{'latitude': '42.4013888', 'longitude': '-71.1...</td>\n",
       "      <td>Ward 6</td>\n",
       "      <td>Service Requests</td>\n",
       "      <td>21 Walker St</td>\n",
       "      <td>0</td>\n",
       "      <td>2015-07-22 09:39:00</td>\n",
       "      <td>2015-07-22 09:39:00</td>\n",
       "      <td>405749</td>\n",
       "      <td>2015-07-22 09:39:00</td>\n",
       "      <td>Closed</td>\n",
       "    </tr>\n",
       "    <tr>\n",
       "      <th>23</th>\n",
       "      <td>16552.0</td>\n",
       "      <td>Traffic and Parking</td>\n",
       "      <td>Illegal parking</td>\n",
       "      <td>{'latitude': '42.3957061', 'longitude': '-71.1...</td>\n",
       "      <td>Ward 6</td>\n",
       "      <td>Service Requests</td>\n",
       "      <td>Grove St</td>\n",
       "      <td>17753</td>\n",
       "      <td>2015-08-27 15:20:00</td>\n",
       "      <td>2015-08-27 14:14:00</td>\n",
       "      <td>416405</td>\n",
       "      <td>2015-08-27 15:20:00</td>\n",
       "      <td>Closed</td>\n",
       "    </tr>\n",
       "  </tbody>\n",
       "</table>\n",
       "</div>"
      ],
      "text/plain": [
       "    :@computed_region_8cbr_52pd    issue_description         issue_type  \\\n",
       "10                      16552.0  Traffic and Parking  T&P Miscellaneous   \n",
       "23                      16552.0  Traffic and Parking    Illegal parking   \n",
       "\n",
       "                                             location neighborhood_district  \\\n",
       "10  {'latitude': '42.4013888', 'longitude': '-71.1...                Ward 6   \n",
       "23  {'latitude': '42.3957061', 'longitude': '-71.1...                Ward 6   \n",
       "\n",
       "   secondary_issue_type street_address  submitter ticket_closed_date_time  \\\n",
       "10     Service Requests   21 Walker St          0     2015-07-22 09:39:00   \n",
       "23     Service Requests       Grove St      17753     2015-08-27 15:20:00   \n",
       "\n",
       "   ticket_created_date_time  ticket_id ticket_last_updated_date_time  \\\n",
       "10      2015-07-22 09:39:00     405749           2015-07-22 09:39:00   \n",
       "23      2015-08-27 14:14:00     416405           2015-08-27 15:20:00   \n",
       "\n",
       "   ticket_status  \n",
       "10        Closed  \n",
       "23        Closed  "
      ]
     },
     "execution_count": 11,
     "metadata": {},
     "output_type": "execute_result"
    }
   ],
   "source": [
    "df3 = df2[df2['issue_description'] == 'Traffic and Parking']\n",
    "df3.head(2)"
   ]
  },
  {
   "cell_type": "code",
   "execution_count": 12,
   "metadata": {},
   "outputs": [
    {
     "data": {
      "text/plain": [
       "10    {'latitude': '42.4013888', 'longitude': '-71.1...\n",
       "23    {'latitude': '42.3957061', 'longitude': '-71.1...\n",
       "Name: location, dtype: object"
      ]
     },
     "execution_count": 12,
     "metadata": {},
     "output_type": "execute_result"
    }
   ],
   "source": [
    "# We need to transform the disgusting variable into something workable\n",
    "df3.location.head(2)"
   ]
  },
  {
   "cell_type": "code",
   "execution_count": 13,
   "metadata": {},
   "outputs": [
    {
     "data": {
      "text/html": [
       "<div>\n",
       "<style scoped>\n",
       "    .dataframe tbody tr th:only-of-type {\n",
       "        vertical-align: middle;\n",
       "    }\n",
       "\n",
       "    .dataframe tbody tr th {\n",
       "        vertical-align: top;\n",
       "    }\n",
       "\n",
       "    .dataframe thead th {\n",
       "        text-align: right;\n",
       "    }\n",
       "</style>\n",
       "<table border=\"1\" class=\"dataframe\">\n",
       "  <thead>\n",
       "    <tr style=\"text-align: right;\">\n",
       "      <th></th>\n",
       "      <th>human_address</th>\n",
       "      <th>latitude</th>\n",
       "      <th>longitude</th>\n",
       "    </tr>\n",
       "  </thead>\n",
       "  <tbody>\n",
       "    <tr>\n",
       "      <th>10</th>\n",
       "      <td>{\"address\": \"21 Walker St\", \"city\": \"Somervill...</td>\n",
       "      <td>42.4013888</td>\n",
       "      <td>-71.1186435</td>\n",
       "    </tr>\n",
       "    <tr>\n",
       "      <th>23</th>\n",
       "      <td>{\"address\": \"Grove St Somerville\", \"city\": \"\",...</td>\n",
       "      <td>42.3957061</td>\n",
       "      <td>-71.1204966</td>\n",
       "    </tr>\n",
       "    <tr>\n",
       "      <th>24</th>\n",
       "      <td>{\"address\": \"98 Elm St\", \"city\": \"Somerville\",...</td>\n",
       "      <td>42.3894709</td>\n",
       "      <td>-71.117085</td>\n",
       "    </tr>\n",
       "    <tr>\n",
       "      <th>38</th>\n",
       "      <td>{\"address\": \"45 Broadway\", \"city\": \"Somerville...</td>\n",
       "      <td>42.3865842</td>\n",
       "      <td>-71.0796899</td>\n",
       "    </tr>\n",
       "    <tr>\n",
       "      <th>46</th>\n",
       "      <td>{\"address\": \"0 Kent St\", \"city\": \"Somerville\",...</td>\n",
       "      <td>42.3837584</td>\n",
       "      <td>-71.1097916</td>\n",
       "    </tr>\n",
       "  </tbody>\n",
       "</table>\n",
       "</div>"
      ],
      "text/plain": [
       "                                        human_address    latitude    longitude\n",
       "10  {\"address\": \"21 Walker St\", \"city\": \"Somervill...  42.4013888  -71.1186435\n",
       "23  {\"address\": \"Grove St Somerville\", \"city\": \"\",...  42.3957061  -71.1204966\n",
       "24  {\"address\": \"98 Elm St\", \"city\": \"Somerville\",...  42.3894709   -71.117085\n",
       "38  {\"address\": \"45 Broadway\", \"city\": \"Somerville...  42.3865842  -71.0796899\n",
       "46  {\"address\": \"0 Kent St\", \"city\": \"Somerville\",...  42.3837584  -71.1097916"
      ]
     },
     "execution_count": 13,
     "metadata": {},
     "output_type": "execute_result"
    }
   ],
   "source": [
    "df4 = pd.DataFrame(df3['location'].values.tolist(), index=df3.index)\n",
    "df4.head()"
   ]
  },
  {
   "cell_type": "code",
   "execution_count": 14,
   "metadata": {},
   "outputs": [
    {
     "data": {
      "text/html": [
       "<div>\n",
       "<style scoped>\n",
       "    .dataframe tbody tr th:only-of-type {\n",
       "        vertical-align: middle;\n",
       "    }\n",
       "\n",
       "    .dataframe tbody tr th {\n",
       "        vertical-align: top;\n",
       "    }\n",
       "\n",
       "    .dataframe thead th {\n",
       "        text-align: right;\n",
       "    }\n",
       "</style>\n",
       "<table border=\"1\" class=\"dataframe\">\n",
       "  <thead>\n",
       "    <tr style=\"text-align: right;\">\n",
       "      <th></th>\n",
       "      <th>latitude</th>\n",
       "      <th>longitude</th>\n",
       "    </tr>\n",
       "  </thead>\n",
       "  <tbody>\n",
       "    <tr>\n",
       "      <th>10</th>\n",
       "      <td>42.4013888</td>\n",
       "      <td>-71.1186435</td>\n",
       "    </tr>\n",
       "    <tr>\n",
       "      <th>23</th>\n",
       "      <td>42.3957061</td>\n",
       "      <td>-71.1204966</td>\n",
       "    </tr>\n",
       "    <tr>\n",
       "      <th>24</th>\n",
       "      <td>42.3894709</td>\n",
       "      <td>-71.117085</td>\n",
       "    </tr>\n",
       "    <tr>\n",
       "      <th>38</th>\n",
       "      <td>42.3865842</td>\n",
       "      <td>-71.0796899</td>\n",
       "    </tr>\n",
       "    <tr>\n",
       "      <th>46</th>\n",
       "      <td>42.3837584</td>\n",
       "      <td>-71.1097916</td>\n",
       "    </tr>\n",
       "  </tbody>\n",
       "</table>\n",
       "</div>"
      ],
      "text/plain": [
       "      latitude    longitude\n",
       "10  42.4013888  -71.1186435\n",
       "23  42.3957061  -71.1204966\n",
       "24  42.3894709   -71.117085\n",
       "38  42.3865842  -71.0796899\n",
       "46  42.3837584  -71.1097916"
      ]
     },
     "execution_count": 14,
     "metadata": {},
     "output_type": "execute_result"
    }
   ],
   "source": [
    "df4[['latitude', 'longitude']].head()"
   ]
  },
  {
   "cell_type": "code",
   "execution_count": 92,
   "metadata": {},
   "outputs": [
    {
     "data": {
      "text/html": [
       "<div style=\"width:100%;\"><div style=\"position:relative;width:100%;height:0;padding-bottom:60%;\"><iframe src=\"data:text/html;charset=utf-8;base64,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\" style=\"position:absolute;width:100%;height:100%;left:0;top:0;border:none !important;\" allowfullscreen webkitallowfullscreen mozallowfullscreen></iframe></div></div>"
      ],
      "text/plain": [
       "<folium.folium.Map at 0x120772f60>"
      ]
     },
     "execution_count": 92,
     "metadata": {},
     "output_type": "execute_result"
    }
   ],
   "source": [
    "# First create a list to give to Folium\n",
    "heat_df2 = df4[['latitude', 'longitude']]\n",
    "heat_df2 = heat_df2.dropna(axis=0, subset=['latitude','longitude'])\n",
    "heat_data2 = [[row['latitude'],row['longitude']] for index, row in heat_df2.iterrows()]\n",
    "\n",
    "# We now create a map object and populate it with points\n",
    "map2 = folium.Map(location=[42.38, -71.09], zoom_start=14, tiles='Stamen Terrain')\n",
    "HeatMap(heat_data2, radius=15).add_to(map2)\n",
    "map2"
   ]
  },
  {
   "cell_type": "code",
   "execution_count": 16,
   "metadata": {},
   "outputs": [],
   "source": [
    "# Whoops! Something is wrong, our latitude and longitude aren't numbers!!\n",
    "\n",
    "# Let's fix that\n",
    "df4 = df4[['latitude', 'longitude']].astype(float)"
   ]
  },
  {
   "cell_type": "code",
   "execution_count": 93,
   "metadata": {},
   "outputs": [
    {
     "data": {
      "text/html": [
       "<div style=\"width:100%;\"><div style=\"position:relative;width:100%;height:0;padding-bottom:60%;\"><iframe src=\"data:text/html;charset=utf-8;base64,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\" style=\"position:absolute;width:100%;height:100%;left:0;top:0;border:none !important;\" allowfullscreen webkitallowfullscreen mozallowfullscreen></iframe></div></div>"
      ],
      "text/plain": [
       "<folium.folium.Map at 0x1204ce5c0>"
      ]
     },
     "execution_count": 93,
     "metadata": {},
     "output_type": "execute_result"
    }
   ],
   "source": [
    "# Let's try that again\n",
    "heat_df2 = df4[['latitude', 'longitude']]\n",
    "heat_df2 = heat_df2.dropna(axis=0, subset=['latitude','longitude'])\n",
    "heat_data2 = [[row['latitude'],row['longitude']] for index, row in heat_df2.iterrows()]\n",
    "map2 = folium.Map(location=[42.38, -71.09], zoom_start=14, tiles='Stamen Terrain')\n",
    "HeatMap(heat_data2).add_to(map2)\n",
    "map2"
   ]
  },
  {
   "cell_type": "markdown",
   "metadata": {},
   "source": [
    "Also, make sure to look at the Folium documentation:\n",
    "\n",
    "* https://python-visualization.github.io/folium/modules.html\n",
    "* https://python-visualization.github.io/folium/plugins.html\n",
    "\n",
    "class folium.plugins.HeatMap(data, name=None, min_opacity=0.5, max_zoom=18, max_val=1.0, radius=25, blur=15, gradient=None, overlay=True, control=True, show=True, **kwargs)"
   ]
  }
 ],
 "metadata": {
  "kernelspec": {
   "display_name": "Python 3",
   "language": "python",
   "name": "python3"
  },
  "language_info": {
   "codemirror_mode": {
    "name": "ipython",
    "version": 3
   },
   "file_extension": ".py",
   "mimetype": "text/x-python",
   "name": "python",
   "nbconvert_exporter": "python",
   "pygments_lexer": "ipython3",
   "version": "3.7.1"
  }
 },
 "nbformat": 4,
 "nbformat_minor": 2
}
