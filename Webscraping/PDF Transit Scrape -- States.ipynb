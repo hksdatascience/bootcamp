{
 "cells": [
  {
   "cell_type": "code",
   "execution_count": 1,
   "metadata": {},
   "outputs": [],
   "source": [
    "# import libraries\n",
    "import pandas as pd\n",
    "import html\n",
    "from bs4 import BeautifulSoup\n",
    "import requests\n",
    "from urllib.request import Request, urlopen \n",
    "import urllib.request  \n",
    "from tabula import read_pdf"
   ]
  },
  {
   "cell_type": "code",
   "execution_count": 2,
   "metadata": {},
   "outputs": [
    {
     "data": {
      "text/plain": [
       "200"
      ]
     },
     "execution_count": 2,
     "metadata": {},
     "output_type": "execute_result"
    }
   ],
   "source": [
    "my_page = requests.get(\n",
    "    \"https://www.railpassengers.org/all-aboard/tools-info/ridership-statistics/\")\n",
    "my_page.status_code"
   ]
  },
  {
   "cell_type": "code",
   "execution_count": 3,
   "metadata": {},
   "outputs": [],
   "source": [
    "transit_soup = BeautifulSoup(my_page.content, 'html.parser')"
   ]
  },
  {
   "cell_type": "code",
   "execution_count": 31,
   "metadata": {},
   "outputs": [],
   "source": [
    "state_list = []\n",
    "for l in transit_soup.findAll('option'):\n",
    "    station = l.text.strip()\n",
    "    state_list.append(station)\n",
    "    if station == \"Wyoming\":\n",
    "        break\n",
    "\n",
    "\n",
    "url_val = []\n",
    "for l in transit_soup.findAll('option'):\n",
    "    url_val.append(l['value'])\n",
    "    station = l.text.strip()\n",
    "    if station == \"Wyoming\":\n",
    "        break\n",
    "\n"
   ]
  },
  {
   "cell_type": "code",
   "execution_count": 35,
   "metadata": {},
   "outputs": [],
   "source": [
    "df = pd.DataFrame({\"State\":state_list,\n",
    "                  \"url\":url_val})\n",
    "\n",
    "df['url']=\"https://www.railpassengers.org/\"+df['url']\n",
    "\n",
    "df = df[1:]"
   ]
  },
  {
   "cell_type": "code",
   "execution_count": 36,
   "metadata": {},
   "outputs": [
    {
     "data": {
      "text/html": [
       "<div>\n",
       "<style scoped>\n",
       "    .dataframe tbody tr th:only-of-type {\n",
       "        vertical-align: middle;\n",
       "    }\n",
       "\n",
       "    .dataframe tbody tr th {\n",
       "        vertical-align: top;\n",
       "    }\n",
       "\n",
       "    .dataframe thead th {\n",
       "        text-align: right;\n",
       "    }\n",
       "</style>\n",
       "<table border=\"1\" class=\"dataframe\">\n",
       "  <thead>\n",
       "    <tr style=\"text-align: right;\">\n",
       "      <th></th>\n",
       "      <th>State</th>\n",
       "      <th>url</th>\n",
       "    </tr>\n",
       "  </thead>\n",
       "  <tbody>\n",
       "    <tr>\n",
       "      <th>1</th>\n",
       "      <td>Alabama</td>\n",
       "      <td>https://www.railpassengers.org//site/assets/fi...</td>\n",
       "    </tr>\n",
       "    <tr>\n",
       "      <th>2</th>\n",
       "      <td>Arizona</td>\n",
       "      <td>https://www.railpassengers.org//site/assets/fi...</td>\n",
       "    </tr>\n",
       "    <tr>\n",
       "      <th>3</th>\n",
       "      <td>Arkansas</td>\n",
       "      <td>https://www.railpassengers.org//site/assets/fi...</td>\n",
       "    </tr>\n",
       "    <tr>\n",
       "      <th>4</th>\n",
       "      <td>California</td>\n",
       "      <td>https://www.railpassengers.org//site/assets/fi...</td>\n",
       "    </tr>\n",
       "    <tr>\n",
       "      <th>5</th>\n",
       "      <td>Colorado</td>\n",
       "      <td>https://www.railpassengers.org//site/assets/fi...</td>\n",
       "    </tr>\n",
       "  </tbody>\n",
       "</table>\n",
       "</div>"
      ],
      "text/plain": [
       "        State                                                url\n",
       "1     Alabama  https://www.railpassengers.org//site/assets/fi...\n",
       "2     Arizona  https://www.railpassengers.org//site/assets/fi...\n",
       "3    Arkansas  https://www.railpassengers.org//site/assets/fi...\n",
       "4  California  https://www.railpassengers.org//site/assets/fi...\n",
       "5    Colorado  https://www.railpassengers.org//site/assets/fi..."
      ]
     },
     "execution_count": 36,
     "metadata": {},
     "output_type": "execute_result"
    }
   ],
   "source": [
    "df.head()"
   ]
  },
  {
   "cell_type": "code",
   "execution_count": 34,
   "metadata": {},
   "outputs": [
    {
     "data": {
      "text/plain": [
       "49"
      ]
     },
     "execution_count": 34,
     "metadata": {},
     "output_type": "execute_result"
    }
   ],
   "source": [
    "len(df)"
   ]
  },
  {
   "cell_type": "code",
   "execution_count": 42,
   "metadata": {},
   "outputs": [
    {
     "name": "stdout",
     "output_type": "stream",
     "text": [
      "https://www.railpassengers.org//site/assets/files/1174/al.pdf Alabama\n",
      "https://www.railpassengers.org//site/assets/files/1176/az.pdf Arizona\n",
      "https://www.railpassengers.org//site/assets/files/1177/ar.pdf Arkansas\n",
      "https://www.railpassengers.org//site/assets/files/1178/ca.pdf California\n",
      "https://www.railpassengers.org//site/assets/files/1179/co.pdf Colorado\n",
      "https://www.railpassengers.org//site/assets/files/1180/ct.pdf Connecticut\n",
      "https://www.railpassengers.org//site/assets/files/1181/de.pdf Delaware\n",
      "https://www.railpassengers.org//site/assets/files/1182/fl.pdf Florida\n",
      "https://www.railpassengers.org//site/assets/files/1183/ga.pdf Georgia\n",
      "https://www.railpassengers.org//site/assets/files/1185/id.pdf Idaho\n",
      "https://www.railpassengers.org//site/assets/files/1186/il.pdf Illinois\n",
      "https://www.railpassengers.org//site/assets/files/1187/in.pdf Indiana\n",
      "https://www.railpassengers.org//site/assets/files/1188/ia.pdf Iowa\n",
      "https://www.railpassengers.org//site/assets/files/1189/ks.pdf Kansas\n",
      "https://www.railpassengers.org//site/assets/files/1190/ky.pdf Kentucky\n",
      "https://www.railpassengers.org//site/assets/files/1191/la.pdf Louisiana\n",
      "https://www.railpassengers.org//site/assets/files/1192/me.pdf Maine\n",
      "https://www.railpassengers.org//site/assets/files/1193/md.pdf Maryland\n",
      "https://www.railpassengers.org//site/assets/files/1194/ma.pdf Massachusetts\n",
      "https://www.railpassengers.org//site/assets/files/1195/mi.pdf Michigan\n",
      "https://www.railpassengers.org//site/assets/files/1196/mn.pdf Minnesota\n",
      "https://www.railpassengers.org//site/assets/files/1197/ms.pdf Mississippi\n",
      "https://www.railpassengers.org//site/assets/files/1198/mo.pdf Missouri\n",
      "https://www.railpassengers.org//site/assets/files/1199/mt.pdf Montana\n",
      "https://www.railpassengers.org//site/assets/files/1200/ne.pdf Nebraska\n",
      "https://www.railpassengers.org//site/assets/files/1201/nv.pdf Nevada\n",
      "https://www.railpassengers.org//site/assets/files/1202/nh.pdf New Hampshire\n",
      "https://www.railpassengers.org//site/assets/files/1203/nj.pdf New Jersey\n",
      "https://www.railpassengers.org//site/assets/files/1204/nm.pdf New Mexico\n",
      "https://www.railpassengers.org//site/assets/files/1205/ny.pdf New York\n",
      "https://www.railpassengers.org//site/assets/files/1206/nc.pdf North Carolina\n",
      "https://www.railpassengers.org//site/assets/files/1207/nd.pdf North Dakota\n",
      "https://www.railpassengers.org//site/assets/files/1208/oh.pdf Ohio\n",
      "https://www.railpassengers.org//site/assets/files/1209/ok.pdf Oklahoma\n",
      "https://www.railpassengers.org//site/assets/files/1210/or.pdf Oregon\n",
      "https://www.railpassengers.org//site/assets/files/1211/pa.pdf Pennsylvania\n",
      "https://www.railpassengers.org//site/assets/files/1212/ri.pdf Rhode Island\n",
      "https://www.railpassengers.org//site/assets/files/1213/sc.pdf South Carolina\n",
      "https://www.railpassengers.org//site/assets/files/1214/sd.pdf South Dakota\n",
      "https://www.railpassengers.org//site/assets/files/1215/tn.pdf Tennessee\n",
      "https://www.railpassengers.org//site/assets/files/1216/tx.pdf Texas\n",
      "https://www.railpassengers.org//site/assets/files/1217/ut.pdf Utah\n",
      "https://www.railpassengers.org//site/assets/files/1218/vt.pdf Vermont\n",
      "https://www.railpassengers.org//site/assets/files/1219/va.pdf Virginia\n",
      "https://www.railpassengers.org//site/assets/files/1220/wa.pdf Washington\n",
      "https://www.railpassengers.org//site/assets/files/1221/wv.pdf West Virginia\n",
      "https://www.railpassengers.org//site/assets/files/1222/wi.pdf Wisconsin\n",
      "https://www.railpassengers.org//site/assets/files/1223/wy.pdf Wyoming\n"
     ]
    }
   ],
   "source": [
    "for i in range(0, len(df)):\n",
    "    print(df.iloc[i]['url'], df.iloc[i]['State'])\n"
   ]
  },
  {
   "cell_type": "code",
   "execution_count": 47,
   "metadata": {},
   "outputs": [],
   "source": [
    "#Download all pdfs\n",
    "\n",
    "#url=\"https://www.railpassengers.org/site/assets/files/1679/abe.pdf\"  \n",
    "#req = urllib.request.Request(url, headers={'User-Agent': 'Mozilla/5.0'})  \n",
    "\n",
    "for i in range(0, len(df)):\n",
    "#    print(states.iloc[i]['url'], states.iloc[i]['report type'])\n",
    "    url=df.iloc[i]['url']\n",
    "    r = requests.get(url)\n",
    "    file_name=\"./pdfs/\"\n",
    "    file_name=file_name+(df.iloc[i]['State'])+\".pdf\"\n",
    "    with open(file_name, \"wb\") as code:\n",
    "        code.write(r.content)"
   ]
  },
  {
   "cell_type": "code",
   "execution_count": 50,
   "metadata": {
    "scrolled": true
   },
   "outputs": [
    {
     "name": "stdout",
     "output_type": "stream",
     "text": [
      "Alabama\n",
      "[66403.0, 65213.0, 62426.0, 60167.0, 57398.0, 56382.0, 53831.0]\n",
      "Arizona\n",
      "[104.9, 105.3, 104.4, 109.6, 107.3, 109.7, 104.1]\n",
      "Arkansas\n",
      "[40899.0, 40641.0, 36470.0, 34800.0, 32196.0, 34807.0, 33548.0]\n",
      "California\n",
      "[963.0, 1196.0, 527.0, 951.0, 1229.0, 1338.0, 1665.0]\n",
      "Colorado\n",
      "[202.2, 193.8, 199.3, 223.3, 246.0, 273.9, 263.2]\n",
      "Connecticut\n",
      "[1757.6, 1730.9, 1693.9, 1665.9, 1566.3, 1546.5, 1666.8]\n",
      "Delaware\n",
      "[741.8, 740.4, 707.8, 707.1, 697.0, 693.4, 710.3]\n",
      "Florida\n",
      "[1140.1, 1099.3, 1067.5, 1016.9, 936.4, 909.2, 885.0]\n",
      "Georgia\n",
      "[197.2, 187.5, 175.3, 162.5, 151.2, 150.9, 141.5]\n",
      "Idaho\n",
      "[8815.0, 9596.0, 8489.0, 7867.0, 7510.0, 7366.0, 7166.0]\n",
      "Illinois\n",
      "[4962.8, 5063.6, 4884.4, 4753.3, 4580.0, 4738.7, 4679.3]\n",
      "Indiana\n",
      "[148.5, 152.4, 147.4, 133.6, 132.5, 138.1, 130.6]\n",
      "Iowa\n",
      "[59695.0, 59035.0, 56599.0, 57508.0, 61247.0, 60434.0, 57999.0]\n",
      "Kansas\n",
      "[49498.0, 50146.0, 49418.0, 49673.0, 49484.0, 52214.0, 49476.0]\n",
      "Kentucky\n",
      "[10781.0, 11116.0, 10067.0, 10055.0, 9600.0, 9290.0, 8495.0]\n",
      "Louisiana\n",
      "[253.1, 243.9, 232.6, 220.9, 211.1, 209.6, 213.6]\n",
      "Maine\n",
      "[330.7, 348.1, 334.9, 262.8, 308.6, 322.3, 341.7]\n",
      "Maryland\n",
      "[1914.2, 1943.7, 1904.5, 1845.4, 1913.2, 1985.9, 2002.3]\n",
      "Massachusetts\n",
      "[3080.4, 3065.7, 3114.9, 3108.5, 3220.0, 3232.6, 3314.6]\n",
      "Michigan\n",
      "[859.5, 891.6, 849.1, 819.2, 744.5, 806.4, 835.5]\n",
      "Minnesota\n",
      "[177.6, 171.1, 137.4, 136.9, 144.0, 136.4, 126.7]\n",
      "Mississippi\n",
      "[114.1, 112.0, 107.8, 106.5, 102.7, 100.5, 96.1]\n",
      "Missouri\n",
      "[722.5, 757.4, 725.5, 690.5, 688.5, 729.5, 715.2]\n",
      "Montana\n",
      "[148.7, 147.3, 117.4, 112.1, 123.6, 125.3, 121.4]\n",
      "Nebraska\n",
      "[46119.0, 49011.0, 48600.0, 52993.0, 54593.0, 54940.0, 52906.0]\n",
      "Nevada\n",
      "[79502.0, 91016.0, 77125.0, 73985.0, 86097.0, 81819.0, 83714.0]\n",
      "New Hampshire\n",
      "[213.4, 226.4, 196.1, 167.1, 198.1, 204.6, 212.9]\n",
      "New Jersey\n",
      "[1649.0, 1628.4, 1625.5, 1596.3, 1637.4, 1667.2, 1704.7]\n",
      "New Mexico\n",
      "[128.9, 127.2, 126.0, 131.4, 125.9, 122.4, 102.9]\n",
      "New York\n",
      "[1329.0, 1416.0, 1962.0, 2214.0, 2413.0, 2346.0, 2375.0]\n",
      "North Carolina\n",
      "[923.4, 958.5, 951.3, 938.1, 880.7, 847.9, 868.8]\n",
      "North Dakota\n",
      "[153.7, 153.5, 130.8, 119.5, 106.2, 103.4, 103.2]\n",
      "Ohio\n",
      "[161.8, 159.6, 152.3, 142.3, 140.6, 147.7, 134.1]\n",
      "Oklahoma\n",
      "[91113.0, 84726.0, 81466.0, 71115.0, 68557.0, 73455.0, 69473.0]\n",
      "Oregon\n",
      "[914.8, 914.1, 820.7, 794.7, 823.7, 829.5, 796.9]\n",
      "Pennsylvania\n",
      "[6050.2, 6189.4, 5957.7, 6082.9, 6330.0, 6427.6, 6514.9]\n",
      "Rhode Island\n",
      "[864.0, 841.4, 850.8, 882.1, 911.7, 942.5, 973.6]\n",
      "South Carolina\n",
      "[241.0, 236.5, 222.0, 216.2, 195.8, 194.9, 179.7]\n",
      "South Dakota\n",
      "No Data\n",
      "Tennessee\n",
      "[75688.0, 78675.0, 72589.0, 74968.0, 74667.0, 76122.0, 73758.0]\n",
      "Texas\n",
      "[458.3, 437.2, 410.5, 376.1, 356.9, 388.5, 377.9]\n",
      "Utah\n",
      "[52565.0, 54942.0, 51203.0, 45830.0, 51161.0, 49625.0, 55181.0]\n",
      "Vermont\n",
      "[94.2, 98.9, 106.0, 101.7, 90.8, 92.4, 91.9]\n",
      "Virginia\n",
      "[1380.6, 1489.6, 1471.1, 1488.6, 1437.8, 1474.9, 1452.1]\n",
      "Washington\n",
      "[1283.1, 1254.3, 1229.7, 1192.4, 1247.5, 1260.3, 1307.3]\n",
      "West Virginia\n",
      "[54708.0, 55819.0, 44293.0, 44299.0, 55658.0, 50596.0, 54493.0]\n",
      "Wisconsin\n",
      "[934.7, 913.9, 880.8, 884.5, 899.0, 919.7, 929.1]\n",
      "Wyoming\n",
      "No Data\n",
      "    Year  Ridership      state\n",
      "0   2012    66403.0    Alabama\n",
      "1   2013    65213.0    Alabama\n",
      "2   2014    62426.0    Alabama\n",
      "3   2015    60167.0    Alabama\n",
      "4   2016    57398.0    Alabama\n",
      "..   ...        ...        ...\n",
      "2   2014      880.8  Wisconsin\n",
      "3   2015      884.5  Wisconsin\n",
      "4   2016      899.0  Wisconsin\n",
      "5   2017      919.7  Wisconsin\n",
      "6   2018      929.1  Wisconsin\n",
      "\n",
      "[322 rows x 3 columns]\n"
     ]
    }
   ],
   "source": [
    "## Read pdfs\n",
    "\n",
    "state_table=pd.DataFrame()\n",
    "years = ['2012','2013','2014','2015','2016','2017','2018']\n",
    "\n",
    "\n",
    "\n",
    "for i in range(0, len(df)):\n",
    "    state=df.iloc[i]['State']\n",
    "    print(state) #check status during loop\n",
    "    #need to define file directory\n",
    "    file_name=\"./pdfs/\"+(df.iloc[i]['State'])+\".pdf\"\n",
    "    #read pdf as new variable using tabula \n",
    "    df_2=read_pdf(file_name, \n",
    "                    spreadsheet=True, \n",
    "                    area=(101.118,29.647,291.706,342.0))\n",
    "    vals=[]\n",
    "    #header becomes the 2012 value when reading in table\n",
    "    try:\n",
    "        x_list=df_2.columns.values.tolist()\n",
    "        for j in x_list:\n",
    "            x=j.replace(\",\",\"\")\n",
    "\n",
    "        x=float(x)\n",
    "        vals.append(x)\n",
    "\n",
    "        value_list = df_2.values.tolist()\n",
    "        for y in value_list:\n",
    "            z=y[0]\n",
    "            z=str(z)\n",
    "            z=z.replace(\",\",\"\")\n",
    "            z=float(z)\n",
    "            vals.append(z)\n",
    "\n",
    "        new_state=pd.DataFrame()\n",
    "        new_state['Year'] = years\n",
    "        print(vals)\n",
    "\n",
    "\n",
    "        new_state['Ridership']=vals\n",
    "        new_state[\"state\"]=state\n",
    "        state_table = pd.concat([state_table, new_state])\n",
    "\n",
    "    except AttributeError:\n",
    "        print(\"No Data\")\n",
    "\n",
    "\n",
    "\n",
    "print(state_table)"
   ]
  },
  {
   "cell_type": "code",
   "execution_count": null,
   "metadata": {},
   "outputs": [],
   "source": [
    "state_table.to_csv(\"State Table.csv\")"
   ]
  }
 ],
 "metadata": {
  "kernelspec": {
   "display_name": "Python 3",
   "language": "python",
   "name": "python3"
  },
  "language_info": {
   "codemirror_mode": {
    "name": "ipython",
    "version": 3
   },
   "file_extension": ".py",
   "mimetype": "text/x-python",
   "name": "python",
   "nbconvert_exporter": "python",
   "pygments_lexer": "ipython3",
   "version": "3.7.5"
  }
 },
 "nbformat": 4,
 "nbformat_minor": 2
}
